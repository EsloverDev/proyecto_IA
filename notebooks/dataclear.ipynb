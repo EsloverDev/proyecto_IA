{
 "cells": [
  {
   "cell_type": "markdown",
   "id": "4c8c4c22",
   "metadata": {},
   "source": [
    "Importar paquetes"
   ]
  },
  {
   "cell_type": "code",
   "execution_count": 2,
   "id": "4cf2b396",
   "metadata": {},
   "outputs": [],
   "source": [
    "import pandas as pd"
   ]
  },
  {
   "cell_type": "markdown",
   "id": "7e3e895c",
   "metadata": {},
   "source": [
    "Cargar Datos"
   ]
  },
  {
   "cell_type": "code",
   "execution_count": null,
   "id": "f2511a33",
   "metadata": {},
   "outputs": [],
   "source": [
    "data=pd.read_csv"
   ]
  }
 ],
 "metadata": {
  "kernelspec": {
   "display_name": ".venv",
   "language": "python",
   "name": "python3"
  },
  "language_info": {
   "codemirror_mode": {
    "name": "ipython",
    "version": 3
   },
   "file_extension": ".py",
   "mimetype": "text/x-python",
   "name": "python",
   "nbconvert_exporter": "python",
   "pygments_lexer": "ipython3",
   "version": "3.12.10"
  }
 },
 "nbformat": 4,
 "nbformat_minor": 5
}
